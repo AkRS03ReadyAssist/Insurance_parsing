{
 "cells": [
  {
   "cell_type": "code",
   "execution_count": 22,
   "metadata": {},
   "outputs": [],
   "source": [
    "from PyPDF2 import PdfReader\n",
    "from langchain.embeddings import GPT4AllEmbeddings\n",
    "from langchain.text_splitter import CharacterTextSplitter\n",
    "from langchain.vectorstores import FAISS\n",
    "from langchain.prompts import PromptTemplate, FewShotPromptTemplate\n",
    "from langchain_groq import ChatGroq\n",
    "import os\n",
    "from constants import openai_key\n",
    "from langchain.chains import LLMChain, SequentialChain"
   ]
  },
  {
   "cell_type": "code",
   "execution_count": 23,
   "metadata": {},
   "outputs": [],
   "source": [
    "os.environ['GROQ_API_KEY'] = openai_key"
   ]
  },
  {
   "cell_type": "code",
   "execution_count": 82,
   "metadata": {},
   "outputs": [
    {
     "name": "stdout",
     "output_type": "stream",
     "text": [
      "<PyPDF2._reader.PdfReader object at 0x000001C6851D9670>\n"
     ]
    }
   ],
   "source": [
    "pdf_path='8983765_ua 07 k 5553.pdf'\n",
    "pdf_reader=PdfReader(pdf_path)\n",
    "print(pdf_reader)"
   ]
  },
  {
   "cell_type": "code",
   "execution_count": 83,
   "metadata": {},
   "outputs": [],
   "source": [
    "import re"
   ]
  },
  {
   "cell_type": "code",
   "execution_count": 84,
   "metadata": {},
   "outputs": [],
   "source": [
    "raw_text=''\n",
    "for i, pages in enumerate(pdf_reader.pages):\n",
    "    content=pages.extract_text()\n",
    "    if content:\n",
    "        raw_text+=content\n",
    "    "
   ]
  },
  {
   "cell_type": "code",
   "execution_count": 85,
   "metadata": {},
   "outputs": [],
   "source": [
    "text_splitter=CharacterTextSplitter(\n",
    "    separator='\\n',\n",
    "    chunk_size=1000,\n",
    "    chunk_overlap=200,\n",
    "    length_function=len\n",
    ")"
   ]
  },
  {
   "cell_type": "code",
   "execution_count": 86,
   "metadata": {},
   "outputs": [],
   "source": [
    "text=text_splitter.split_text(raw_text)"
   ]
  },
  {
   "cell_type": "code",
   "execution_count": 87,
   "metadata": {},
   "outputs": [
    {
     "data": {
      "text/plain": [
       "['DEHRADUN\\n24/04/2023Place :\\nDate  :\\nThe Oriental Insurance Company Limited\\nPage 1 of 2253200/31/2024/238 Policy No               : 253200/31/2022/191 Prev Policy No     :\\n-\\nFROM 00:00  ON 25/05/2023 TO MIDNIGHT OF 24/05/2024UTTRAKHAND JAL VIDYUT NIGAM LTD \\n(GSTIN: 0)DO DEHRADUN (GSTIN: \\n05AAACT0627R4Z2)\\n 9,079  1,634 .5  10,713PRIVATE CAR PACKAGE POLICY - ZONE B\\nDC_I_IND 2226000245 - 24/04/2023          GST INVOICE NO :05229613        UIN :0\\nValue of CNG\\nLPG KitTotal Value For the Vehicle For Trailers Non Electrical\\nAccessoriesElectrical\\nAccessories\\n 51,656  0  0  51,656UA 07 K 5553 2523 OTHERS 9 + 1 GAS54D29039 2005\\nMA1NN2GAK52D13\\n485\\nThe Policy covers use  of the vehicle for any purpose other than  a) Hire or Reward  b)  Carriage of goods (other than samples or \\npersonal luggage) c) Organized racing d)       Pace making e) Speed testing  f) Reliability Trials  g) Use in connection with  Motor \\nTrade1',\n",
       " \"personal luggage) c) Organized racing d)       Pace making e) Speed testing  f) Reliability Trials  g) Use in connection with  Motor \\nTrade1\\nDriver:Any person including the insured, Provided that a person driving holds an effective driving license at the time of the accident and is not \\ndisqualified from holding or obtaining such a  license. Provided also that the person holding an effective Learner's license may also drive the \\nvehicle and that such a person satisfies the requirements of Rule 3 of the Central Motor Vehicles Rules, 1989.RTO DehradunMAHINDRA & \\nMAHINDRA-\\nMARSHAL STD (10)INDIA106501689 253200\\nUJJWAL MAHARANI BAGH,,GMS ROAD\\nDEHRADUN\\nDEHRADUN UTTARAKHAND 2480014-B, 1st Floor, Sachdeva Colony,\\n(Opp- Nainital Bank Ltd.)\\nHaridwar Road, Dehradun\\nDEHRADUN UTTARAKHAND 248001MOTOR INSURANCE CERTIFICATE CUM POLICY SCHEDULE\\nCover Note No       : Cover Note Dt        :\\nInsured's Code      :\\nInsured's Name     :Issue Office Code  :\\nIssue Office Name :\",\n",
       " \"Cover Note No       : Cover Note Dt        :\\nInsured's Code      :\\nInsured's Name     :Issue Office Code  :\\nIssue Office Name :\\nAddress                 : Address                 :\\n /  / 0 / NA 0135 - 2729715, 2729721 / 0135 - 2729917 / Tel /Fax /Email      : Tel /Fax /Email      :\\nPeriod of Insurance  :\\nCollection No & Dt    :\\nGross Premium        : GST  : Stamp Duty  : Total  :\\nGeographical Area   : Area Extension   :\\nParticulars of Insured Vehicle:\\nRegistration Mark \\n& PlaceEngine No. & \\nChassis No. Make - ModelType Of Body Cubic \\nCapacityYear Of \\nManf.Seating Capacity \\n(including Driver)\\nLimitations as to use:\\nLimit of Liability:Under Section II-I(1) in respect of any one accident: as per Motor Vehicles Act, 1988.\\nUnder Section II-I(ii) in respect of any one claim or  series of claims arising out of one event is Rs. 750000\\nInsured's Declared Value0 P.A. Cover under Section III for Registered Owner Cum Driver (CSI)        :  Rs.LC0000000198 SALASAR SERVICES INSURANCE BROKERS P LTD\",\n",
       " \"Insured's Declared Value0 P.A. Cover under Section III for Registered Owner Cum Driver (CSI)        :  Rs.LC0000000198 SALASAR SERVICES INSURANCE BROKERS P LTD\\n0361-234030/0333-2943438// \\n23A NETAJI SUBHAS ROAD 6TH FLOOR KOLKATTA 700001,6TH FLOOR \\nKOLKATTA 700001,MOB NO  9674516777, 9836318793, 9830141236 , \\n9836970832,CALCUTTA,WEST BENGAL,700001Dev.Off.Code         :\\nAddress                 :\\nTel /Fax /Email      :\\nAgent/Broker        :Agent/Broker Details\\n:Lead/Breakin No : /\\n*This insurance excludes all pre-existing damagesType Of Fuel\\nDIESELRoad Side Assistance included in this policy - Toll free No.18003091209 \\n*Conditions ApplyDEHRADUN\\n24/04/2023\\nPage 2 of 2Place :\\nDate  :\\nThe Oriental Insurance Company Limited\\nB. LIABILITY A. OWN DAMAGE\\nCompulsory Deductible  2000\\nSubject to IMT Endorsement Printed herein/attached to : IMT-12 , IMT-22, IMT-28, IMT-16, IMT-10, OIC-1:Nil Depreciation Cover\\n, IMT-20, IMT-29\\nHypothecation Agreement with:\\nHire Purchase/Lessor Agreement with:\",\n",
       " ', IMT-20, IMT-29\\nHypothecation Agreement with:\\nHire Purchase/Lessor Agreement with: \\nIMPORTANT NOTICE\\nThe Insured is not Indemnified if the vehicle is used or driven otherwise than in accordance with this Schedule. Any payment\\nmade by the Company by reason of wider terms appearing in the Certificate in order to comply with the MVAct, 1988 is\\nrecoverable from the Insured. See the Clause headed \"AVOIDANCE OF CERTAIN TERMS AND RIGHTS OF RECOVERY\".-\\n-Details of IMT Endorsements are also available on the Company¿s Web Portal  www.orientalinsurance.org.inBASIC TP COVER\\nBASIC TP TOTAL\\nADD :PA-UN-NAMED-GR36B2\\nADD :LL TO EMPLOYEES-IMT-29\\nTP TOTAL\\nTOTAL PREMIUM\\nSTAMP DUTY\\nADD :SGST\\nADD :CGST\\nTOTAL AMOUNT 7,897.00\\n 7,897.00\\n 900.00\\n 50.00\\n 8,847.00\\n 9,079.00\\n 0.50\\n 817.00\\n 817.00\\n 10,713.00BASIC OD COVER\\nMOTOR OD BASIC - NEW\\nLESS :HEAD OFFICE DISCOUNT\\nLESS :UNDERWRITER DISCOUNT\\nBASIC OD TOTAL\\nOD TOTAL\\nLESS :NO CLAIM BONUS-GR27\\nMOTOR TOTAL OD 1,857.00\\n 464.35\\n 835.65\\n 557.00\\n 464.35\\n 464.00',\n",
       " 'MOTOR OD BASIC - NEW\\nLESS :HEAD OFFICE DISCOUNT\\nLESS :UNDERWRITER DISCOUNT\\nBASIC OD TOTAL\\nOD TOTAL\\nLESS :NO CLAIM BONUS-GR27\\nMOTOR TOTAL OD 1,857.00\\n 464.35\\n 835.65\\n 557.00\\n 464.35\\n 464.00\\n 232.18\\n 232.00\\n* NCB discount - 50 %     253200/31/2024/238\\nANAND  MEHROTRA\\nSURAT SINGHAttached to and forming part of policy number\\nSCHEDULE OF PREMIUM\\nDeductibles under Section-I :\\nClaim is not admissible if Driving License is found fake or is not valid whether or not in the knowledge of the insured.\\nI/We hereby certify that the policy to which the certificate relates as well as this certificate of insurance are issued in accordance with the provision of \\nChapter X and Chapter XI of Motor Vehicles Act, 1988.\\nIn witness whereof the undersigned being authorised by and on behalf of the company has/have herein to set his/their hands at DO DEHRADUN',\n",
       " \"Chapter X and Chapter XI of Motor Vehicles Act, 1988.\\nIn witness whereof the undersigned being authorised by and on behalf of the company has/have herein to set his/their hands at DO DEHRADUN \\n(GSTIN: 05AAACT0627R4Z2) on 24-APR-23The insurance under this policy is subject to conditions, clauses, warranties, exclusions, IMTs and OIC endorsements mentioned herein \\nabove which are available on Company's website: www.orientalinsurance.org.in or on demand from the policy issuing office.In the event of a claim under the policy exceeding Rs.1lac or a claim for refund of premium exceeding Rs1lac,the insured will comply with \\nthe provisions of the AML policy of the Company.The AML policy is available in all our operating Offices as well as company's website.\\nEntered By        :\\nExamined By    :The Oriental Insurance Company Limited\\nAuthorised Signatory\\nDigitally Signed\",\n",
       " 'Entered By        :\\nExamined By    :The Oriental Insurance Company Limited\\nAuthorised Signatory\\nDigitally Signed\\nByWarranted that in case of dishonour of premium cheque(s) the Company shall not be liable under the policy and the policy shall be void \\nabinitio (from inception).\\nCIN: U66010DL1947GOI007158  All the Amounts mentioned in this policy are in Indian Rupees\\nIRDA Regn. No. 556 - Now you can buy and renew selected policies online at www.orientalinsurance.org.inIn case of any query regarding the Policy please call Toll Free No. 1800 11 8485 and 011 33208485.This is an electronically generated document (Policy Schedule).The  Policy document duly stamped will be sent by post.Policy Printed By :\\nPolicy Printed On :IP : 264130\\n24-APR-23 16:33:40']"
      ]
     },
     "execution_count": 87,
     "metadata": {},
     "output_type": "execute_result"
    }
   ],
   "source": [
    "text"
   ]
  },
  {
   "cell_type": "code",
   "execution_count": 88,
   "metadata": {},
   "outputs": [],
   "source": [
    "templates={\"name\":'''from the {text} extract the name of policy holder''',\n",
    "\"contact_numbr\":'''from the {text} extract the contact_number of policy holder''',\n",
    "\"policy_number\":'''from the {text} extract the policy_number of policy''',\n",
    "\"Insurance_company_name\":'''from the {text} extract the Insurance_company_name''',\n",
    "\"type_of_policy\":'''from the {text} extract the Type_of_policy''',\n",
    "\"Start_date\":'''from the {text} extract the Start_date of policy''',\n",
    "\"expiry_date\":'''from the {text} extract the expiry_date of policy''',\n",
    "\"registration_number\":'''from the {text} extract the registration_number of car''',\n",
    "\"engine_number\":'''from the {text} extract the engine_number of car''',\n",
    "\"chassis_number\":'''from the {text} extract the chassis_number of car''',\n",
    "\"body_type\":'''from the {text} extract the body_type of car''',\n",
    "\"vehicle_make\":'''from the {text} extract the vehicle_make of car''',\n",
    "\"model\":'''from the {text} extract the model of car''',\n",
    "\"manufacturing_year\":'''from the {text} extract the manufacturing_year of car''',\n",
    "\"total_premium_paid\":'''from the {text} extract the total_premium_paid by the policy holder''',\n",
    "\"address\":'''from the {text} extract the address of policy holder'''}"
   ]
  },
  {
   "cell_type": "code",
   "execution_count": 89,
   "metadata": {},
   "outputs": [],
   "source": [
    "template='''from the {text} give me the details like name of the customer, contact number of the customer, policy_number, insurance_company_name, type_of_policy, start_date of policy, expiry_date of policy, registration_number, engine_number, chassis_number, body_type, vehicle_make, model, manufacturing_year, total_premium_paid, address of the consumer, in the format of a json file, no other text needed'''"
   ]
  },
  {
   "cell_type": "code",
   "execution_count": 90,
   "metadata": {},
   "outputs": [],
   "source": [
    "llm = ChatGroq(api_key=os.environ['GROQ_API_KEY'], model_name=\"llama-3.1-8b-instant\", temperature=0.1 )"
   ]
  },
  {
   "cell_type": "code",
   "execution_count": 91,
   "metadata": {},
   "outputs": [],
   "source": [
    "key_information={}"
   ]
  },
  {
   "cell_type": "code",
   "execution_count": 92,
   "metadata": {},
   "outputs": [],
   "source": [
    "\n",
    "def information_extractor(llm, templates, text):\n",
    "    global key_information\n",
    "    for key in templates:\n",
    "        key_information[key]= LLMChain(llm=llm, prompt=PromptTemplate(input_variables=['text'], output_key=key, template=templates[key])).run(text)\n",
    "    return key_information\n"
   ]
  },
  {
   "cell_type": "code",
   "execution_count": 94,
   "metadata": {},
   "outputs": [],
   "source": [
    "#information_extractor(llm, templates,text)"
   ]
  },
  {
   "cell_type": "code",
   "execution_count": 95,
   "metadata": {},
   "outputs": [],
   "source": [
    "chain1=LLMChain(llm=llm, prompt=PromptTemplate(template=template,input_variables=['text']), output_key='dict')"
   ]
  },
  {
   "cell_type": "code",
   "execution_count": 96,
   "metadata": {},
   "outputs": [
    {
     "data": {
      "text/plain": [
       "'```json\\n{\\n  \"customer_name\": \"UJJWAL MAHARANI\",\\n  \"customer_contact_number\": \"Not Available\",\\n  \"policy_number\": \"253200/31/2022/191\",\\n  \"insurance_company_name\": \"The Oriental Insurance Company Limited\",\\n  \"type_of_policy\": \"PRIVATE CAR PACKAGE POLICY - ZONE B\",\\n  \"start_date_of_policy\": \"25/05/2023\",\\n  \"expiry_date_of_policy\": \"24/05/2024\",\\n  \"registration_number\": \"UA 07 K 5553\",\\n  \"engine_number\": \"54D29039\",\\n  \"chassis_number\": \"MA1NN2GAK52D13\",\\n  \"body_type\": \"OTHERS 9 + 1 GAS\",\\n  \"vehicle_make\": \"MAHINDRA & MAHINDRA\",\\n  \"model\": \"MARSHAL STD (10)\",\\n  \"manufacturing_year\": \"2005\",\\n  \"total_premium_paid\": \"10,713.00\",\\n  \"address\": \"UJJWAL MAHARANI BAGH,,GMS ROAD\\\\nDEHRADUN\\\\nDEHRADUN UTTARAKHAND 248001\"\\n}\\n```'"
      ]
     },
     "execution_count": 96,
     "metadata": {},
     "output_type": "execute_result"
    }
   ],
   "source": [
    "chain1.run(text)"
   ]
  },
  {
   "cell_type": "code",
   "execution_count": 97,
   "metadata": {},
   "outputs": [],
   "source": [
    "import json\n",
    "import re\n",
    "\n",
    "def extract_json(text):\n",
    "    \"\"\"Extract JSON content from a text response and convert it into a dictionary.\"\"\"\n",
    "    \n",
    "    # Use regex to extract JSON content between the triple backticks\n",
    "    match = re.search(r'```json\\n(.*?)\\n```', text, re.DOTALL)\n",
    "    \n",
    "    if match:\n",
    "        json_content = match.group(1)  # Extract JSON part\n",
    "        try:\n",
    "            return json.loads(json_content)  # Convert to dictionary\n",
    "        except json.JSONDecodeError:\n",
    "            print(\"Error: Invalid JSON format\")\n",
    "            return None\n",
    "    else:\n",
    "        print(\"Error: No JSON found in the text\")\n",
    "        return None"
   ]
  },
  {
   "cell_type": "code",
   "execution_count": 98,
   "metadata": {},
   "outputs": [
    {
     "data": {
      "text/plain": [
       "{'customer_name': 'UJJWAL MAHARANI',\n",
       " 'customer_contact_number': 'Not Available',\n",
       " 'policy_number': '253200/31/2022/191',\n",
       " 'insurance_company_name': 'The Oriental Insurance Company Limited',\n",
       " 'type_of_policy': 'PRIVATE CAR PACKAGE POLICY - ZONE B',\n",
       " 'start_date_of_policy': '25/05/2023',\n",
       " 'expiry_date_of_policy': '24/05/2024',\n",
       " 'registration_number': 'UA 07 K 5553',\n",
       " 'engine_number': '54D29039',\n",
       " 'chassis_number': 'MA1NN2GAK52D13',\n",
       " 'body_type': 'OTHERS 9 + 1 GAS',\n",
       " 'vehicle_make': 'MAHINDRA & MAHINDRA',\n",
       " 'model': 'MARSHAL STD (10)',\n",
       " 'manufacturing_year': '2005',\n",
       " 'total_premium_paid': '10,713.00',\n",
       " 'address': 'UJJWAL MAHARANI BAGH,,GMS ROAD\\nDEHRADUN\\nDEHRADUN UTTARAKHAND 248001'}"
      ]
     },
     "execution_count": 98,
     "metadata": {},
     "output_type": "execute_result"
    }
   ],
   "source": [
    "extract_json(chain1.run(text))"
   ]
  },
  {
   "cell_type": "code",
   "execution_count": null,
   "metadata": {},
   "outputs": [],
   "source": [
    "key_info={}\n",
    "for ele in key_information:\n",
    "    key_info[ele]=key_information[ele].split()[-6:]"
   ]
  },
  {
   "cell_type": "code",
   "execution_count": null,
   "metadata": {},
   "outputs": [
    {
     "data": {
      "text/plain": [
       "{'name': 'The name of the policy holder is SHASHANK R.',\n",
       " 'contact_numbr': 'The contact number of the policy holder is not explicitly mentioned in the provided text. However, there is a phone number mentioned for the policy holder\\'s address:\\n\\n\"Address:  A206 Amrutha Grandeur, Katyayani Nivas, Behind MEBP Rachenahalli Main Road Date of Issuance 12/03/2016 11:20:14\\\\nPeriod of Insurance From: 19/03/2016 00:00:00\\\\nTo: Midnight On 18/03/2017 23:59:59 BANGALORE KARNATAKA\\\\n INDIAPin Code 560077\\\\nPhone #:  9741474849\"\\n\\nSo, the contact number of the policy holder is 9741474849.',\n",
       " 'policy_number': 'The policy number is 1-4G1ERON P400.',\n",
       " 'Insurance_company_name': 'The Insurance company name is:\\n\\nIFFCO-TOKIO General Insurance Co. Ltd',\n",
       " 'type_of_policy': 'The type of policy is a \"PRIVATE CAR CERTIFICATE OF INSURANCE CUM SCHEDULE\" which is a Motor Insurance Policy.',\n",
       " 'Start_date': 'The start date of the policy is 19/03/2016 00:00:00.',\n",
       " 'expiry_date': 'The expiry date of the policy is:\\n\\nMidnight On 18/03/2017 23:59:59',\n",
       " 'registration_number': 'The registration number of the car is KA41N2842.',\n",
       " 'engine_number': 'The engine number of the car is 1589589.',\n",
       " 'chassis_number': 'The chassis number of the car is: 1589589',\n",
       " 'body_type': 'The body_type of the car is mentioned in the following lines:\\n\\n1. Registration Mark & \\nNo.Year of Manuf.Type of BodyCC Coverage IDV in Rs.Engine No.Seating CapacityMetallic 3800222\\nKA41N2842 2010Make of Vehicle796 Package 120861.00Chassis No.5MARUTI ALTO LXI 1589589\\n\\nThe body_type of the car is \"MARUTI ALTO LXI\" which is a Hatchback.',\n",
       " 'vehicle_make': 'The vehicle make of the car is \"MARUTI\".',\n",
       " 'model': 'The model of the car is a Maruti Alto LXI, as mentioned in the following lines:\\n\\n\"Registration Mark & No.\\nYear of Manuf.\\nType of Body\\nCC\\nCoverage IDV in Rs.\\nEngine No.\\nSeating Capacity\\nMetallic\\n3800222\\nKA41N2842\\n2010\\nMake of Vehicle\\n796\\nPackage\\n120861.00\\nChassis No.\\n5\\nMARUTI ALTO LXI\\n1589589\"',\n",
       " 'manufacturing_year': 'The manufacturing year of the car is 2010.',\n",
       " 'total_premium_paid': \"The total premium paid by the policy holder can be extracted from the following text:\\n\\n'Receipt Particulars:   S.Tax.No. AAACI7573HST001\\\\nPay Method Receipt Amount Instrument # Instrument Date Bank\\\\nONLINE BANKING 3295.92 870693 03/12/2016'\\n\\nThe total premium paid is Rs. 3295.92.\",\n",
       " 'address': 'The address of the policy holder is:\\n\\nA206 Amrutha Grandeur, \\nKatyayani Nivas, \\nBehind MEBP Rachenahalli Main Road, \\nBANGALORE, \\nKARNATAKA, \\nINDIA\\nPin Code: 560077\\n\\nPhone Number: 9741474849'}"
      ]
     },
     "execution_count": 92,
     "metadata": {},
     "output_type": "execute_result"
    }
   ],
   "source": [
    "key_information"
   ]
  },
  {
   "cell_type": "code",
   "execution_count": null,
   "metadata": {},
   "outputs": [
    {
     "data": {
      "text/plain": [
       "{'name': ['the', 'policy', 'holder', 'is', 'SHASHANK', 'R.'],\n",
       " 'contact_numbr': ['of', 'the', 'policy', 'holder', 'is', '9741474849.'],\n",
       " 'policy_number': ['The', 'policy', 'number', 'is', '1-4G1ERON', 'P400.'],\n",
       " 'Insurance_company_name': ['is:',\n",
       "  'IFFCO-TOKIO',\n",
       "  'General',\n",
       "  'Insurance',\n",
       "  'Co.',\n",
       "  'Ltd'],\n",
       " 'type_of_policy': ['which', 'is', 'a', 'Motor', 'Insurance', 'Policy.'],\n",
       " 'Start_date': ['of', 'the', 'policy', 'is', '19/03/2016', '00:00:00.'],\n",
       " 'expiry_date': ['policy', 'is:', 'Midnight', 'On', '18/03/2017', '23:59:59'],\n",
       " 'registration_number': ['number', 'of', 'the', 'car', 'is', 'KA41N2842.'],\n",
       " 'engine_number': ['number', 'of', 'the', 'car', 'is', '1589589.'],\n",
       " 'chassis_number': ['number', 'of', 'the', 'car', 'is:', '1589589'],\n",
       " 'body_type': ['ALTO', 'LXI\"', 'which', 'is', 'a', 'Hatchback.'],\n",
       " 'vehicle_make': ['make', 'of', 'the', 'car', 'is', '\"MARUTI\".'],\n",
       " 'model': ['No.', '5', 'MARUTI', 'ALTO', 'LXI', '1589589\"'],\n",
       " 'manufacturing_year': ['year', 'of', 'the', 'car', 'is', '2010.'],\n",
       " 'total_premium_paid': ['total', 'premium', 'paid', 'is', 'Rs.', '3295.92.'],\n",
       " 'address': ['Pin', 'Code:', '560077', 'Phone', 'Number:', '9741474849']}"
      ]
     },
     "execution_count": 93,
     "metadata": {},
     "output_type": "execute_result"
    }
   ],
   "source": [
    "key_info"
   ]
  },
  {
   "cell_type": "code",
   "execution_count": 104,
   "metadata": {},
   "outputs": [],
   "source": [
    "path='390836363-Car-Insurance-pdf.pdf'\n",
    "reader=PdfReader(path)\n",
    "text_second=''\n",
    "for pages in reader.pages:\n",
    "    text_second+=pages.extract_text()\n",
    "text_final=text_splitter.split_text(text_second)"
   ]
  },
  {
   "cell_type": "code",
   "execution_count": null,
   "metadata": {},
   "outputs": [],
   "source": [
    "#x=re.search(r\"```json\\n(.*?)\\n```\",s,re.DOTALL).group(1)"
   ]
  },
  {
   "cell_type": "code",
   "execution_count": 105,
   "metadata": {},
   "outputs": [],
   "source": [
    "def read_text(chain, text):\n",
    "    try:    \n",
    "        return json.loads(re.search(r\"```json\\n(.*?)\\n```\",chain.run(text), re.DOTALL).group(1))\n",
    "        \n",
    "    except  Exception as e:\n",
    "        return e"
   ]
  },
  {
   "cell_type": "code",
   "execution_count": 107,
   "metadata": {},
   "outputs": [
    {
     "data": {
      "text/plain": [
       "{'customer_name': 'UJJWAL MAHARANI',\n",
       " 'customer_contact_number': 'Not Available',\n",
       " 'policy_number': '253200/31/2022/191',\n",
       " 'insurance_company_name': 'The Oriental Insurance Company Limited',\n",
       " 'type_of_policy': 'PRIVATE CAR PACKAGE POLICY - ZONE B',\n",
       " 'start_date_of_policy': '25/05/2023',\n",
       " 'expiry_date_of_policy': '24/05/2024',\n",
       " 'registration_number': 'UA 07 K 5553',\n",
       " 'engine_number': '54D29039',\n",
       " 'chassis_number': 'MA1NN2GAK52D13',\n",
       " 'body_type': 'OTHERS 9 + 1 GAS',\n",
       " 'vehicle_make': 'MAHINDRA & MAHINDRA',\n",
       " 'model': 'MARSHAL STD (10)',\n",
       " 'manufacturing_year': '2005',\n",
       " 'total_premium_paid': '10,713.00',\n",
       " 'address': 'UJJWAL MAHARANI BAGH,,GMS ROAD\\nDEHRADUN\\nDEHRADUN UTTARAKHAND 248001'}"
      ]
     },
     "execution_count": 107,
     "metadata": {},
     "output_type": "execute_result"
    }
   ],
   "source": [
    "read_text(chain1,text)"
   ]
  },
  {
   "cell_type": "code",
   "execution_count": 106,
   "metadata": {},
   "outputs": [
    {
     "data": {
      "text/plain": [
       "{'customer_name': 'SHASHANK R',\n",
       " 'customer_contact_number': '9741474849',\n",
       " 'policy_number': '1-4G1ERON P400',\n",
       " 'insurance_company_name': 'IFFCO-TOKIO GENERAL INSURANCE CO. LTD',\n",
       " 'type_of_policy': 'PRIVATE CAR CERTIFICATE OF INSURANCE CUM SCHEDULE',\n",
       " 'start_date_of_policy': '19/03/2016',\n",
       " 'expiry_date_of_policy': '18/03/2017',\n",
       " 'registration_number': 'KA41N2842',\n",
       " 'engine_number': '796',\n",
       " 'chassis_number': '1589589',\n",
       " 'body_type': 'MARUTI ALTO LXI',\n",
       " 'vehicle_make': 'MARUTI',\n",
       " 'model': 'ALTO LXI',\n",
       " 'manufacturing_year': '2010',\n",
       " 'total_premium_paid': '3295.92',\n",
       " 'address': 'A206 Amrutha Grandeur, Katyayani Nivas, Behind MEBP Rachenahalli Main Road, BANGALORE KARNATAKA, INDIAPin Code 560077'}"
      ]
     },
     "execution_count": 106,
     "metadata": {},
     "output_type": "execute_result"
    }
   ],
   "source": [
    "read_text(chain1,text_final)"
   ]
  },
  {
   "cell_type": "code",
   "execution_count": null,
   "metadata": {},
   "outputs": [],
   "source": []
  }
 ],
 "metadata": {
  "kernelspec": {
   "display_name": "Python 3",
   "language": "python",
   "name": "python3"
  },
  "language_info": {
   "codemirror_mode": {
    "name": "ipython",
    "version": 3
   },
   "file_extension": ".py",
   "mimetype": "text/x-python",
   "name": "python",
   "nbconvert_exporter": "python",
   "pygments_lexer": "ipython3",
   "version": "3.12.5"
  }
 },
 "nbformat": 4,
 "nbformat_minor": 2
}
